{
 "cells": [
  {
   "cell_type": "code",
   "execution_count": 1,
   "id": "2e130c4b-62cf-4fd1-b493-e8dd8cf324a8",
   "metadata": {},
   "outputs": [],
   "source": [
    "import requests\n",
    "\n",
    "import pandas as pd\n",
    "import matplotlib.pyplot as plt"
   ]
  },
  {
   "cell_type": "markdown",
   "id": "ac5db0d9-fdd5-4723-b6e8-5209fec1b20c",
   "metadata": {},
   "source": [
    "# Solve model"
   ]
  },
  {
   "cell_type": "code",
   "execution_count": 2,
   "id": "e7ae8661-af56-4baa-8ed8-849108b2921f",
   "metadata": {},
   "outputs": [],
   "source": [
    "r = requests.post(\"http://127.0.0.1:2021/solve_cellml_model\", json={\"model\": \"BR\"})"
   ]
  },
  {
   "cell_type": "code",
   "execution_count": 3,
   "id": "6e8cb1e7-e7ce-4245-bf49-5a73ec66c95d",
   "metadata": {},
   "outputs": [],
   "source": [
    "response = r.json()"
   ]
  },
  {
   "cell_type": "code",
   "execution_count": 4,
   "id": "81ab39a5-bb85-4f31-ba34-8fed7dff3f57",
   "metadata": {},
   "outputs": [],
   "source": [
    "def solution_to_dataframe(response):\n",
    "    data = {x[\"variable\"]: x[\"value\"] for x in response[\"solution\"]}\n",
    "    df = pd.DataFrame(data)\n",
    "    return df"
   ]
  },
  {
   "cell_type": "code",
   "execution_count": 5,
   "id": "b12f2868-7f39-4abb-8540-288cbc585ca7",
   "metadata": {},
   "outputs": [
    {
     "data": {
      "text/html": [
       "<div>\n",
       "<style scoped>\n",
       "    .dataframe tbody tr th:only-of-type {\n",
       "        vertical-align: middle;\n",
       "    }\n",
       "\n",
       "    .dataframe tbody tr th {\n",
       "        vertical-align: top;\n",
       "    }\n",
       "\n",
       "    .dataframe thead th {\n",
       "        text-align: right;\n",
       "    }\n",
       "</style>\n",
       "<table border=\"1\" class=\"dataframe\">\n",
       "  <thead>\n",
       "    <tr style=\"text-align: right;\">\n",
       "      <th></th>\n",
       "      <th>d</th>\n",
       "      <th>f</th>\n",
       "      <th>Cai</th>\n",
       "      <th>x1</th>\n",
       "      <th>m</th>\n",
       "      <th>h</th>\n",
       "      <th>V</th>\n",
       "      <th>j</th>\n",
       "    </tr>\n",
       "  </thead>\n",
       "  <tbody>\n",
       "    <tr>\n",
       "      <th>0</th>\n",
       "      <td>0.003000</td>\n",
       "      <td>0.994000</td>\n",
       "      <td>0.000100</td>\n",
       "      <td>0.000100</td>\n",
       "      <td>0.011000</td>\n",
       "      <td>0.988000</td>\n",
       "      <td>-84.624000</td>\n",
       "      <td>0.975000</td>\n",
       "    </tr>\n",
       "    <tr>\n",
       "      <th>1</th>\n",
       "      <td>0.003000</td>\n",
       "      <td>0.994000</td>\n",
       "      <td>0.000100</td>\n",
       "      <td>0.000100</td>\n",
       "      <td>0.011000</td>\n",
       "      <td>0.988000</td>\n",
       "      <td>-84.623500</td>\n",
       "      <td>0.975000</td>\n",
       "    </tr>\n",
       "    <tr>\n",
       "      <th>2</th>\n",
       "      <td>0.003000</td>\n",
       "      <td>0.994000</td>\n",
       "      <td>0.000100</td>\n",
       "      <td>0.000100</td>\n",
       "      <td>0.011000</td>\n",
       "      <td>0.988000</td>\n",
       "      <td>-84.557301</td>\n",
       "      <td>0.975000</td>\n",
       "    </tr>\n",
       "    <tr>\n",
       "      <th>3</th>\n",
       "      <td>0.003000</td>\n",
       "      <td>0.994001</td>\n",
       "      <td>0.000100</td>\n",
       "      <td>0.000100</td>\n",
       "      <td>0.011042</td>\n",
       "      <td>0.987997</td>\n",
       "      <td>-84.382649</td>\n",
       "      <td>0.975000</td>\n",
       "    </tr>\n",
       "    <tr>\n",
       "      <th>4</th>\n",
       "      <td>0.003000</td>\n",
       "      <td>0.994001</td>\n",
       "      <td>0.000100</td>\n",
       "      <td>0.000100</td>\n",
       "      <td>0.011128</td>\n",
       "      <td>0.987993</td>\n",
       "      <td>-84.208086</td>\n",
       "      <td>0.974999</td>\n",
       "    </tr>\n",
       "    <tr>\n",
       "      <th>...</th>\n",
       "      <td>...</td>\n",
       "      <td>...</td>\n",
       "      <td>...</td>\n",
       "      <td>...</td>\n",
       "      <td>...</td>\n",
       "      <td>...</td>\n",
       "      <td>...</td>\n",
       "      <td>...</td>\n",
       "    </tr>\n",
       "    <tr>\n",
       "      <th>304</th>\n",
       "      <td>0.003072</td>\n",
       "      <td>0.999944</td>\n",
       "      <td>0.000181</td>\n",
       "      <td>0.044496</td>\n",
       "      <td>0.011498</td>\n",
       "      <td>0.986203</td>\n",
       "      <td>-84.220898</td>\n",
       "      <td>0.972979</td>\n",
       "    </tr>\n",
       "    <tr>\n",
       "      <th>305</th>\n",
       "      <td>0.003050</td>\n",
       "      <td>0.999953</td>\n",
       "      <td>0.000180</td>\n",
       "      <td>0.035160</td>\n",
       "      <td>0.011377</td>\n",
       "      <td>0.986191</td>\n",
       "      <td>-84.302641</td>\n",
       "      <td>0.973422</td>\n",
       "    </tr>\n",
       "    <tr>\n",
       "      <th>306</th>\n",
       "      <td>0.003033</td>\n",
       "      <td>0.999963</td>\n",
       "      <td>0.000180</td>\n",
       "      <td>0.028071</td>\n",
       "      <td>0.011284</td>\n",
       "      <td>0.986897</td>\n",
       "      <td>-84.365883</td>\n",
       "      <td>0.973760</td>\n",
       "    </tr>\n",
       "    <tr>\n",
       "      <th>307</th>\n",
       "      <td>0.003020</td>\n",
       "      <td>0.999973</td>\n",
       "      <td>0.000179</td>\n",
       "      <td>0.022684</td>\n",
       "      <td>0.011212</td>\n",
       "      <td>0.987115</td>\n",
       "      <td>-84.414458</td>\n",
       "      <td>0.974017</td>\n",
       "    </tr>\n",
       "    <tr>\n",
       "      <th>308</th>\n",
       "      <td>0.003017</td>\n",
       "      <td>0.999975</td>\n",
       "      <td>0.000179</td>\n",
       "      <td>0.021340</td>\n",
       "      <td>0.011194</td>\n",
       "      <td>0.987135</td>\n",
       "      <td>-84.426669</td>\n",
       "      <td>0.974081</td>\n",
       "    </tr>\n",
       "  </tbody>\n",
       "</table>\n",
       "<p>309 rows × 8 columns</p>\n",
       "</div>"
      ],
      "text/plain": [
       "            d         f       Cai        x1         m         h          V  \\\n",
       "0    0.003000  0.994000  0.000100  0.000100  0.011000  0.988000 -84.624000   \n",
       "1    0.003000  0.994000  0.000100  0.000100  0.011000  0.988000 -84.623500   \n",
       "2    0.003000  0.994000  0.000100  0.000100  0.011000  0.988000 -84.557301   \n",
       "3    0.003000  0.994001  0.000100  0.000100  0.011042  0.987997 -84.382649   \n",
       "4    0.003000  0.994001  0.000100  0.000100  0.011128  0.987993 -84.208086   \n",
       "..        ...       ...       ...       ...       ...       ...        ...   \n",
       "304  0.003072  0.999944  0.000181  0.044496  0.011498  0.986203 -84.220898   \n",
       "305  0.003050  0.999953  0.000180  0.035160  0.011377  0.986191 -84.302641   \n",
       "306  0.003033  0.999963  0.000180  0.028071  0.011284  0.986897 -84.365883   \n",
       "307  0.003020  0.999973  0.000179  0.022684  0.011212  0.987115 -84.414458   \n",
       "308  0.003017  0.999975  0.000179  0.021340  0.011194  0.987135 -84.426669   \n",
       "\n",
       "            j  \n",
       "0    0.975000  \n",
       "1    0.975000  \n",
       "2    0.975000  \n",
       "3    0.975000  \n",
       "4    0.974999  \n",
       "..        ...  \n",
       "304  0.972979  \n",
       "305  0.973422  \n",
       "306  0.973760  \n",
       "307  0.974017  \n",
       "308  0.974081  \n",
       "\n",
       "[309 rows x 8 columns]"
      ]
     },
     "execution_count": 5,
     "metadata": {},
     "output_type": "execute_result"
    }
   ],
   "source": [
    "df = solution_to_dataframe(response)\n",
    "t = response[\"time\"]\n",
    "df"
   ]
  },
  {
   "cell_type": "code",
   "execution_count": 6,
   "id": "293ca7a3-4e00-47ed-8d58-4cfb1b8cd6a8",
   "metadata": {},
   "outputs": [
    {
     "data": {
      "text/plain": [
       "[<matplotlib.lines.Line2D at 0x7f6378c97460>]"
      ]
     },
     "execution_count": 6,
     "metadata": {},
     "output_type": "execute_result"
    },
    {
     "data": {
      "image/png": "[encoded data removed]",
      "text/plain": [
       "<Figure size 432x288 with 1 Axes>"
      ]
     },
     "metadata": {
      "needs_background": "light"
     },
     "output_type": "display_data"
    }
   ],
   "source": [
    "plt.plot(t, df[\"V\"])"
   ]
  },
  {
   "cell_type": "code",
   "execution_count": 7,
   "id": "e06dc6ff-287d-455d-9782-8b1f761f2323",
   "metadata": {},
   "outputs": [
    {
     "data": {
      "text/plain": [
       "<matplotlib.legend.Legend at 0x7f6370c416d0>"
      ]
     },
     "execution_count": 7,
     "metadata": {},
     "output_type": "execute_result"
    },
    {
     "data": {
      "image/png": "[encoded data removed]",
      "text/plain": [
       "<Figure size 432x288 with 1 Axes>"
      ]
     },
     "metadata": {
      "needs_background": "light"
     },
     "output_type": "display_data"
    }
   ],
   "source": [
    "for key in \"m\", \"h\", \"j\":\n",
    "    plt.plot(df[\"V\"], df[key], label=key)\n",
    "    \n",
    "plt.xlabel(\"V, mV\")\n",
    "plt.legend()"
   ]
  },
  {
   "cell_type": "markdown",
   "id": "a817b9a0-cf06-4662-937e-87fee83eb5e2",
   "metadata": {},
   "source": [
    "# Get model params"
   ]
  },
  {
   "cell_type": "code",
   "execution_count": 8,
   "id": "3d21a8e3-1018-464a-aa2d-c945bd04b2f2",
   "metadata": {},
   "outputs": [],
   "source": [
    "r = requests.post(\"http://127.0.0.1:2021/get_model_states_params\", json={\"model\": \"BR\"})\n",
    "\n",
    "params = pd.DataFrame(r.json()[\"params\"]).set_index([\"component\", \"variable\"])[\"value\"]\n",
    "states = pd.DataFrame(r.json()[\"states\"]).set_index([\"component\", \"variable\"])[\"value\"]"
   ]
  },
  {
   "cell_type": "code",
   "execution_count": 9,
   "id": "8634408e-f66d-451f-9e02-930c39b1e9a5",
   "metadata": {},
   "outputs": [
    {
     "data": {
      "text/plain": [
       "component            variable          \n",
       "sodium_current       g_Na                      0.04000\n",
       "                     E_Na                     50.00000\n",
       "                     g_Nac                     0.00003\n",
       "stimulus_protocol    IstimStart               10.00000\n",
       "                     IstimEnd              50000.00000\n",
       "                     IstimAmplitude            0.50000\n",
       "                     IstimPeriod            1000.00000\n",
       "                     IstimPulseDuration        1.00000\n",
       "slow_inward_current  g_s                       0.00090\n",
       "membrane             C                         0.01000\n",
       "Name: value, dtype: float64"
      ]
     },
     "execution_count": 9,
     "metadata": {},
     "output_type": "execute_result"
    }
   ],
   "source": [
    "params"
   ]
  },
  {
   "cell_type": "code",
   "execution_count": 10,
   "id": "7c38aa2f-d406-45b3-980e-981e94e58e19",
   "metadata": {},
   "outputs": [
    {
     "data": {
      "text/plain": [
       "component                               variable\n",
       "slow_inward_current_d_gate              d            0.0030\n",
       "slow_inward_current_f_gate              f            0.9940\n",
       "slow_inward_current                     Cai          0.0001\n",
       "time_dependent_outward_current_x1_gate  x1           0.0001\n",
       "sodium_current_m_gate                   m            0.0110\n",
       "sodium_current_h_gate                   h            0.9880\n",
       "membrane                                V          -84.6240\n",
       "sodium_current_j_gate                   j            0.9750\n",
       "Name: value, dtype: float64"
      ]
     },
     "execution_count": 10,
     "metadata": {},
     "output_type": "execute_result"
    }
   ],
   "source": [
    "states"
   ]
  },
  {
   "cell_type": "code",
   "execution_count": null,
   "id": "f72653da-ca1f-4db0-ae3e-b151950d9c6c",
   "metadata": {},
   "outputs": [],
   "source": []
  }
 ],
 "metadata": {
  "kernelspec": {
   "display_name": "py3.8_hpl",
   "language": "python",
   "name": "py3.8_hpl"
  },
  "language_info": {
   "codemirror_mode": {
    "name": "ipython",
    "version": 3
   },
   "file_extension": ".py",
   "mimetype": "text/x-python",
   "name": "python",
   "nbconvert_exporter": "python",
   "pygments_lexer": "ipython3",
   "version": "3.8.6"
  }
 },
 "nbformat": 4,
 "nbformat_minor": 5
}
