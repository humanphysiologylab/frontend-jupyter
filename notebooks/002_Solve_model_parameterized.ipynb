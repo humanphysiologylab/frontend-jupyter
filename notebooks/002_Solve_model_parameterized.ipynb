{
 "cells": [
  {
   "cell_type": "code",
   "execution_count": 1,
   "id": "2e130c4b-62cf-4fd1-b493-e8dd8cf324a8",
   "metadata": {},
   "outputs": [],
   "source": [
    "import requests\n",
    "\n",
    "import pandas as pd\n",
    "import matplotlib.pyplot as plt"
   ]
  },
  {
   "cell_type": "markdown",
   "id": "a817b9a0-cf06-4662-937e-87fee83eb5e2",
   "metadata": {
    "tags": []
   },
   "source": [
    "# Get model params"
   ]
  },
  {
   "cell_type": "code",
   "execution_count": 16,
   "id": "d5f7e12c-f68e-4a85-a15a-63154d16ef3d",
   "metadata": {},
   "outputs": [
    {
     "name": "stdout",
     "output_type": "stream",
     "text": [
      "124 ms ± 15.6 ms per loop (mean ± std. dev. of 7 runs, 10 loops each)\n"
     ]
    }
   ],
   "source": [
    "%%timeit\n",
    "requests.post(\"http://127.0.0.1:2021/get_model_states_params\", json={\"model_name\": \"BR\"})"
   ]
  },
  {
   "cell_type": "code",
   "execution_count": 17,
   "id": "d298be8f-205e-4615-8099-a87128124cbc",
   "metadata": {},
   "outputs": [],
   "source": [
    "r = requests.post(\"http://127.0.0.1:2021/get_model_states_params\", json={\"model_name\": \"BR\"})"
   ]
  },
  {
   "cell_type": "code",
   "execution_count": 18,
   "id": "22c72d07-fad5-4a10-9e84-c3fdc90dbc32",
   "metadata": {},
   "outputs": [],
   "source": [
    "params = pd.DataFrame(r.json()[\"params\"]).set_index([\"component\", \"variable\"])[\"value\"]\n",
    "states = pd.DataFrame(r.json()[\"states\"]).set_index([\"component\", \"variable\"])[\"value\"]"
   ]
  },
  {
   "cell_type": "code",
   "execution_count": 19,
   "id": "8634408e-f66d-451f-9e02-930c39b1e9a5",
   "metadata": {},
   "outputs": [
    {
     "data": {
      "text/plain": [
       "component            variable          \n",
       "sodium_current       g_Na                      0.04000\n",
       "                     E_Na                     50.00000\n",
       "                     g_Nac                     0.00003\n",
       "stimulus_protocol    IstimStart               10.00000\n",
       "                     IstimEnd              50000.00000\n",
       "                     IstimAmplitude            0.50000\n",
       "                     IstimPeriod            1000.00000\n",
       "                     IstimPulseDuration        1.00000\n",
       "slow_inward_current  g_s                       0.00090\n",
       "membrane             C                         0.01000\n",
       "Name: value, dtype: float64"
      ]
     },
     "execution_count": 19,
     "metadata": {},
     "output_type": "execute_result"
    }
   ],
   "source": [
    "params"
   ]
  },
  {
   "cell_type": "code",
   "execution_count": 20,
   "id": "7c38aa2f-d406-45b3-980e-981e94e58e19",
   "metadata": {},
   "outputs": [
    {
     "data": {
      "text/plain": [
       "component                               variable\n",
       "slow_inward_current_d_gate              d            0.0030\n",
       "slow_inward_current_f_gate              f            0.9940\n",
       "slow_inward_current                     Cai          0.0001\n",
       "time_dependent_outward_current_x1_gate  x1           0.0001\n",
       "sodium_current_m_gate                   m            0.0110\n",
       "sodium_current_h_gate                   h            0.9880\n",
       "membrane                                V          -84.6240\n",
       "sodium_current_j_gate                   j            0.9750\n",
       "Name: value, dtype: float64"
      ]
     },
     "execution_count": 20,
     "metadata": {},
     "output_type": "execute_result"
    }
   ],
   "source": [
    "states"
   ]
  },
  {
   "cell_type": "markdown",
   "id": "89c81b8a-27b7-4f91-ad2f-63f8ae1b0ff6",
   "metadata": {},
   "source": [
    "# kwargs"
   ]
  },
  {
   "cell_type": "code",
   "execution_count": 21,
   "id": "9c204bf2-c754-4abe-a33e-9f8ed004f4eb",
   "metadata": {},
   "outputs": [],
   "source": [
    "kwargs_problem_keys = [\"u0\", \"p\", \"tspan\"]"
   ]
  },
  {
   "cell_type": "code",
   "execution_count": 22,
   "id": "9be7e18b-d7e1-4029-afcc-0810b01bd29a",
   "metadata": {},
   "outputs": [],
   "source": [
    "kwargs_output_keys = [\"saveat\", \"tstops\"]  # and other ...\n",
    "kwargs_stepping_keys = [\"abstol\", \"reltol\", \"dt\", \"dtmax\", \"dtmin\"]  # and others ...\n",
    "# kwargs_misc_keys = [\"callback\"]\n",
    "\n",
    "kwargs_solve_keys = [\"solver\"] + kwargs_output_keys + kwargs_stepping_keys"
   ]
  },
  {
   "cell_type": "markdown",
   "id": "273de5ff-bba5-4882-8a16-1bd6f56f665b",
   "metadata": {},
   "source": [
    "# Example"
   ]
  },
  {
   "cell_type": "code",
   "execution_count": 23,
   "id": "76174425-740a-471b-9f6f-44c6b5df2154",
   "metadata": {},
   "outputs": [
    {
     "data": {
      "text/plain": [
       "component            variable          \n",
       "sodium_current       g_Na                      0.02000\n",
       "                     E_Na                     50.00000\n",
       "                     g_Nac                     0.00003\n",
       "stimulus_protocol    IstimStart                0.00000\n",
       "                     IstimEnd              50000.00000\n",
       "                     IstimAmplitude            0.50000\n",
       "                     IstimPeriod            1000.00000\n",
       "                     IstimPulseDuration        1.00000\n",
       "slow_inward_current  g_s                       0.00135\n",
       "membrane             C                         0.01000\n",
       "Name: value, dtype: float64"
      ]
     },
     "execution_count": 23,
     "metadata": {},
     "output_type": "execute_result"
    }
   ],
   "source": [
    "params.loc[(\"stimulus_protocol\", \"IstimStart\")] = 0.\n",
    "params.loc[(\"sodium_current\", \"g_Na\")] = 0.04 * 0.5\n",
    "params.loc[(\"slow_inward_current\", \"g_s\")] = 0.0009 * 1.5\n",
    "\n",
    "params"
   ]
  },
  {
   "cell_type": "code",
   "execution_count": 24,
   "id": "b94389a8-6eb5-44a9-8ae9-60b4f6f051b3",
   "metadata": {},
   "outputs": [
    {
     "data": {
      "text/plain": [
       "{'model_name': 'BR',\n",
       " 'kwargs_problem': {'p': [0.02,\n",
       "   50.0,\n",
       "   3e-05,\n",
       "   0.0,\n",
       "   50000.0,\n",
       "   0.5,\n",
       "   1000.0,\n",
       "   1.0,\n",
       "   0.00135,\n",
       "   0.01],\n",
       "  'tspan': [1e-09, 2000]},\n",
       " 'kwargs_solve': {'solver': 'CVODE_BDF', 'dt': 1e-05, 'dtmax': 0.5}}"
      ]
     },
     "execution_count": 24,
     "metadata": {},
     "output_type": "execute_result"
    }
   ],
   "source": [
    "# example\n",
    "\n",
    "req_dict = {\"model_name\": \"BR\",\n",
    "            \"kwargs_problem\": {\"p\": params.to_list(), \"tspan\": [1e-9, 2000]},  # 0.0 casts to 0 in the request body, FIX THIS\n",
    "            \"kwargs_solve\": {\"solver\": \"CVODE_BDF\", \"dt\": 1e-5, \"dtmax\": 0.5}}\n",
    "req_dict"
   ]
  },
  {
   "cell_type": "markdown",
   "id": "ac5db0d9-fdd5-4723-b6e8-5209fec1b20c",
   "metadata": {
    "tags": []
   },
   "source": [
    "# Solve model"
   ]
  },
  {
   "cell_type": "code",
   "execution_count": 25,
   "id": "e7ae8661-af56-4baa-8ed8-849108b2921f",
   "metadata": {},
   "outputs": [
    {
     "name": "stdout",
     "output_type": "stream",
     "text": [
      "159 ms ± 17.5 ms per loop (mean ± std. dev. of 7 runs, 10 loops each)\n"
     ]
    }
   ],
   "source": [
    "%%timeit\n",
    "requests.post(\"http://127.0.0.1:2021/solve_cellml_model\", json=req_dict)"
   ]
  },
  {
   "cell_type": "code",
   "execution_count": 26,
   "id": "0becfe84-6a63-4fb2-9f01-e6d1ff47d828",
   "metadata": {},
   "outputs": [],
   "source": [
    "r = requests.post(\"http://127.0.0.1:2021/solve_cellml_model\", json=req_dict)"
   ]
  },
  {
   "cell_type": "code",
   "execution_count": 27,
   "id": "6e8cb1e7-e7ce-4245-bf49-5a73ec66c95d",
   "metadata": {},
   "outputs": [],
   "source": [
    "response = r.json()"
   ]
  },
  {
   "cell_type": "code",
   "execution_count": 28,
   "id": "81ab39a5-bb85-4f31-ba34-8fed7dff3f57",
   "metadata": {},
   "outputs": [],
   "source": [
    "def solution_to_dataframe(response):\n",
    "    data = {x[\"variable\"]: x[\"value\"] for x in response[\"solution\"]}\n",
    "    df = pd.DataFrame(data)\n",
    "    return df"
   ]
  },
  {
   "cell_type": "code",
   "execution_count": 29,
   "id": "b12f2868-7f39-4abb-8540-288cbc585ca7",
   "metadata": {},
   "outputs": [],
   "source": [
    "df = solution_to_dataframe(response)\n",
    "t = response[\"time\"]"
   ]
  },
  {
   "cell_type": "code",
   "execution_count": 30,
   "id": "293ca7a3-4e00-47ed-8d58-4cfb1b8cd6a8",
   "metadata": {},
   "outputs": [
    {
     "data": {
      "text/plain": [
       "[<matplotlib.lines.Line2D at 0x7effd0434700>]"
      ]
     },
     "execution_count": 30,
     "metadata": {},
     "output_type": "execute_result"
    },
    {
     "data": {
      "image/png": "[encoded data removed]",
      "text/plain": [
       "<Figure size 432x288 with 1 Axes>"
      ]
     },
     "metadata": {
      "needs_background": "light"
     },
     "output_type": "display_data"
    }
   ],
   "source": [
    "plt.plot(t, df[\"V\"])"
   ]
  },
  {
   "cell_type": "code",
   "execution_count": null,
   "id": "f72653da-ca1f-4db0-ae3e-b151950d9c6c",
   "metadata": {},
   "outputs": [],
   "source": []
  }
 ],
 "metadata": {
  "kernelspec": {
   "display_name": "py3.8_hpl",
   "language": "python",
   "name": "py3.8_hpl"
  },
  "language_info": {
   "codemirror_mode": {
    "name": "ipython",
    "version": 3
   },
   "file_extension": ".py",
   "mimetype": "text/x-python",
   "name": "python",
   "nbconvert_exporter": "python",
   "pygments_lexer": "ipython3",
   "version": "3.8.6"
  }
 },
 "nbformat": 4,
 "nbformat_minor": 5
}
