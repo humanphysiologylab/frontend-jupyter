{
 "cells": [
  {
   "cell_type": "code",
   "execution_count": 1,
   "id": "2e130c4b-62cf-4fd1-b493-e8dd8cf324a8",
   "metadata": {},
   "outputs": [],
   "source": [
    "import requests\n",
    "\n",
    "import numpy as np\n",
    "import pandas as pd\n",
    "import matplotlib.pyplot as plt\n",
    "\n",
    "from tqdm.auto import tqdm"
   ]
  },
  {
   "cell_type": "code",
   "execution_count": 2,
   "id": "d645ebc4-1662-4ea8-acb3-f6a557d0f4d4",
   "metadata": {},
   "outputs": [],
   "source": [
    "def create_obs_legend(response):\n",
    "    data = [[c, k] for k, v in response[\"observables\"].items() for c in v[\"components\"]]\n",
    "    columns = [\"component\", \"variable\"]\n",
    "    df = pd.DataFrame(data, columns=[\"component\", \"variable\"]).set_index(columns).sort_index()\n",
    "    return df\n",
    "\n",
    "\n",
    "def observables_to_dataframe(response):\n",
    "    data = {k: v[\"value\"] for k, v in response[\"observables\"].items()}\n",
    "    df = pd.DataFrame(data)\n",
    "    return df"
   ]
  },
  {
   "cell_type": "markdown",
   "id": "a817b9a0-cf06-4662-937e-87fee83eb5e2",
   "metadata": {
    "tags": []
   },
   "source": [
    "# Параметры модели"
   ]
  },
  {
   "cell_type": "code",
   "execution_count": 3,
   "id": "d298be8f-205e-4615-8099-a87128124cbc",
   "metadata": {},
   "outputs": [],
   "source": [
    "r = requests.post(\"http://127.0.0.1:2021/get_model_params\",\n",
    "                  json={\"model_name\": \"BR\"})"
   ]
  },
  {
   "cell_type": "code",
   "execution_count": 4,
   "id": "9bb94d8c-ae58-4e91-9eb5-9e11b0a2f3f5",
   "metadata": {
    "tags": []
   },
   "outputs": [],
   "source": [
    "params = {k: pd.DataFrame(v).set_index([\"component\", \"variable\"])\n",
    "          for k, v in r.json().items()}"
   ]
  },
  {
   "cell_type": "code",
   "execution_count": 5,
   "id": "8634408e-f66d-451f-9e02-930c39b1e9a5",
   "metadata": {
    "tags": []
   },
   "outputs": [
    {
     "data": {
      "text/html": [
       "<div>\n",
       "<style scoped>\n",
       "    .dataframe tbody tr th:only-of-type {\n",
       "        vertical-align: middle;\n",
       "    }\n",
       "\n",
       "    .dataframe tbody tr th {\n",
       "        vertical-align: top;\n",
       "    }\n",
       "\n",
       "    .dataframe thead th {\n",
       "        text-align: right;\n",
       "    }\n",
       "</style>\n",
       "<table border=\"1\" class=\"dataframe\">\n",
       "  <thead>\n",
       "    <tr style=\"text-align: right;\">\n",
       "      <th></th>\n",
       "      <th></th>\n",
       "      <th>value</th>\n",
       "    </tr>\n",
       "    <tr>\n",
       "      <th>component</th>\n",
       "      <th>variable</th>\n",
       "      <th></th>\n",
       "    </tr>\n",
       "  </thead>\n",
       "  <tbody>\n",
       "    <tr>\n",
       "      <th rowspan=\"3\" valign=\"top\">sodium_current</th>\n",
       "      <th>g_Na</th>\n",
       "      <td>0.04000</td>\n",
       "    </tr>\n",
       "    <tr>\n",
       "      <th>E_Na</th>\n",
       "      <td>50.00000</td>\n",
       "    </tr>\n",
       "    <tr>\n",
       "      <th>g_Nac</th>\n",
       "      <td>0.00003</td>\n",
       "    </tr>\n",
       "    <tr>\n",
       "      <th rowspan=\"5\" valign=\"top\">stimulus_protocol</th>\n",
       "      <th>IstimStart</th>\n",
       "      <td>10.00000</td>\n",
       "    </tr>\n",
       "    <tr>\n",
       "      <th>IstimEnd</th>\n",
       "      <td>50000.00000</td>\n",
       "    </tr>\n",
       "    <tr>\n",
       "      <th>IstimAmplitude</th>\n",
       "      <td>0.50000</td>\n",
       "    </tr>\n",
       "    <tr>\n",
       "      <th>IstimPeriod</th>\n",
       "      <td>1000.00000</td>\n",
       "    </tr>\n",
       "    <tr>\n",
       "      <th>IstimPulseDuration</th>\n",
       "      <td>1.00000</td>\n",
       "    </tr>\n",
       "    <tr>\n",
       "      <th>slow_inward_current</th>\n",
       "      <th>g_s</th>\n",
       "      <td>0.00090</td>\n",
       "    </tr>\n",
       "    <tr>\n",
       "      <th>membrane</th>\n",
       "      <th>C</th>\n",
       "      <td>0.01000</td>\n",
       "    </tr>\n",
       "  </tbody>\n",
       "</table>\n",
       "</div>"
      ],
      "text/plain": [
       "                                              value\n",
       "component           variable                       \n",
       "sodium_current      g_Na                    0.04000\n",
       "                    E_Na                   50.00000\n",
       "                    g_Nac                   0.00003\n",
       "stimulus_protocol   IstimStart             10.00000\n",
       "                    IstimEnd            50000.00000\n",
       "                    IstimAmplitude          0.50000\n",
       "                    IstimPeriod          1000.00000\n",
       "                    IstimPulseDuration      1.00000\n",
       "slow_inward_current g_s                     0.00090\n",
       "membrane            C                       0.01000"
      ]
     },
     "execution_count": 5,
     "metadata": {},
     "output_type": "execute_result"
    }
   ],
   "source": [
    "params[\"params\"]"
   ]
  },
  {
   "cell_type": "code",
   "execution_count": 6,
   "id": "7c38aa2f-d406-45b3-980e-981e94e58e19",
   "metadata": {
    "tags": []
   },
   "outputs": [
    {
     "data": {
      "text/html": [
       "<div>\n",
       "<style scoped>\n",
       "    .dataframe tbody tr th:only-of-type {\n",
       "        vertical-align: middle;\n",
       "    }\n",
       "\n",
       "    .dataframe tbody tr th {\n",
       "        vertical-align: top;\n",
       "    }\n",
       "\n",
       "    .dataframe thead th {\n",
       "        text-align: right;\n",
       "    }\n",
       "</style>\n",
       "<table border=\"1\" class=\"dataframe\">\n",
       "  <thead>\n",
       "    <tr style=\"text-align: right;\">\n",
       "      <th></th>\n",
       "      <th></th>\n",
       "      <th>value</th>\n",
       "    </tr>\n",
       "    <tr>\n",
       "      <th>component</th>\n",
       "      <th>variable</th>\n",
       "      <th></th>\n",
       "    </tr>\n",
       "  </thead>\n",
       "  <tbody>\n",
       "    <tr>\n",
       "      <th>slow_inward_current_d_gate</th>\n",
       "      <th>d</th>\n",
       "      <td>0.0030</td>\n",
       "    </tr>\n",
       "    <tr>\n",
       "      <th>slow_inward_current_f_gate</th>\n",
       "      <th>f</th>\n",
       "      <td>0.9940</td>\n",
       "    </tr>\n",
       "    <tr>\n",
       "      <th>slow_inward_current</th>\n",
       "      <th>Cai</th>\n",
       "      <td>0.0001</td>\n",
       "    </tr>\n",
       "    <tr>\n",
       "      <th>time_dependent_outward_current_x1_gate</th>\n",
       "      <th>x1</th>\n",
       "      <td>0.0001</td>\n",
       "    </tr>\n",
       "    <tr>\n",
       "      <th>sodium_current_m_gate</th>\n",
       "      <th>m</th>\n",
       "      <td>0.0110</td>\n",
       "    </tr>\n",
       "    <tr>\n",
       "      <th>sodium_current_h_gate</th>\n",
       "      <th>h</th>\n",
       "      <td>0.9880</td>\n",
       "    </tr>\n",
       "    <tr>\n",
       "      <th>membrane</th>\n",
       "      <th>V</th>\n",
       "      <td>-84.6240</td>\n",
       "    </tr>\n",
       "    <tr>\n",
       "      <th>sodium_current_j_gate</th>\n",
       "      <th>j</th>\n",
       "      <td>0.9750</td>\n",
       "    </tr>\n",
       "  </tbody>\n",
       "</table>\n",
       "</div>"
      ],
      "text/plain": [
       "                                                   value\n",
       "component                              variable         \n",
       "slow_inward_current_d_gate             d          0.0030\n",
       "slow_inward_current_f_gate             f          0.9940\n",
       "slow_inward_current                    Cai        0.0001\n",
       "time_dependent_outward_current_x1_gate x1         0.0001\n",
       "sodium_current_m_gate                  m          0.0110\n",
       "sodium_current_h_gate                  h          0.9880\n",
       "membrane                               V        -84.6240\n",
       "sodium_current_j_gate                  j          0.9750"
      ]
     },
     "execution_count": 6,
     "metadata": {},
     "output_type": "execute_result"
    }
   ],
   "source": [
    "params[\"states\"]"
   ]
  },
  {
   "cell_type": "markdown",
   "id": "7ca8093e-4db7-42f4-af3d-e960aed69944",
   "metadata": {},
   "source": [
    "# Возбудимость"
   ]
  },
  {
   "cell_type": "markdown",
   "id": "0ec7471f-775a-419e-a06e-d299fec3957c",
   "metadata": {},
   "source": [
    "## Пороговый потенциал"
   ]
  },
  {
   "cell_type": "code",
   "execution_count": 7,
   "id": "6f58d8e2-2b94-422a-babc-293f7fa2b5e5",
   "metadata": {},
   "outputs": [
    {
     "data": {
      "text/html": [
       "<div>\n",
       "<style scoped>\n",
       "    .dataframe tbody tr th:only-of-type {\n",
       "        vertical-align: middle;\n",
       "    }\n",
       "\n",
       "    .dataframe tbody tr th {\n",
       "        vertical-align: top;\n",
       "    }\n",
       "\n",
       "    .dataframe thead th {\n",
       "        text-align: right;\n",
       "    }\n",
       "</style>\n",
       "<table border=\"1\" class=\"dataframe\">\n",
       "  <thead>\n",
       "    <tr style=\"text-align: right;\">\n",
       "      <th></th>\n",
       "      <th></th>\n",
       "      <th>value</th>\n",
       "    </tr>\n",
       "    <tr>\n",
       "      <th>component</th>\n",
       "      <th>variable</th>\n",
       "      <th></th>\n",
       "    </tr>\n",
       "  </thead>\n",
       "  <tbody>\n",
       "    <tr>\n",
       "      <th rowspan=\"3\" valign=\"top\">sodium_current</th>\n",
       "      <th>g_Na</th>\n",
       "      <td>0.04000</td>\n",
       "    </tr>\n",
       "    <tr>\n",
       "      <th>E_Na</th>\n",
       "      <td>50.00000</td>\n",
       "    </tr>\n",
       "    <tr>\n",
       "      <th>g_Nac</th>\n",
       "      <td>0.00003</td>\n",
       "    </tr>\n",
       "    <tr>\n",
       "      <th rowspan=\"5\" valign=\"top\">stimulus_protocol</th>\n",
       "      <th>IstimStart</th>\n",
       "      <td>10.00000</td>\n",
       "    </tr>\n",
       "    <tr>\n",
       "      <th>IstimEnd</th>\n",
       "      <td>50000.00000</td>\n",
       "    </tr>\n",
       "    <tr>\n",
       "      <th>IstimAmplitude</th>\n",
       "      <td>0.00000</td>\n",
       "    </tr>\n",
       "    <tr>\n",
       "      <th>IstimPeriod</th>\n",
       "      <td>1000.00000</td>\n",
       "    </tr>\n",
       "    <tr>\n",
       "      <th>IstimPulseDuration</th>\n",
       "      <td>1.00000</td>\n",
       "    </tr>\n",
       "    <tr>\n",
       "      <th>slow_inward_current</th>\n",
       "      <th>g_s</th>\n",
       "      <td>0.00090</td>\n",
       "    </tr>\n",
       "    <tr>\n",
       "      <th>membrane</th>\n",
       "      <th>C</th>\n",
       "      <td>0.01000</td>\n",
       "    </tr>\n",
       "  </tbody>\n",
       "</table>\n",
       "</div>"
      ],
      "text/plain": [
       "                                              value\n",
       "component           variable                       \n",
       "sodium_current      g_Na                    0.04000\n",
       "                    E_Na                   50.00000\n",
       "                    g_Nac                   0.00003\n",
       "stimulus_protocol   IstimStart             10.00000\n",
       "                    IstimEnd            50000.00000\n",
       "                    IstimAmplitude          0.00000\n",
       "                    IstimPeriod          1000.00000\n",
       "                    IstimPulseDuration      1.00000\n",
       "slow_inward_current g_s                     0.00090\n",
       "membrane            C                       0.01000"
      ]
     },
     "execution_count": 7,
     "metadata": {},
     "output_type": "execute_result"
    }
   ],
   "source": [
    "p = params[\"params\"].copy()\n",
    "p.loc[(\"stimulus_protocol\", \"IstimAmplitude\")] = 0.\n",
    "p"
   ]
  },
  {
   "cell_type": "code",
   "execution_count": 8,
   "id": "89a8b0de-761c-46ee-b6e9-fec0d8260281",
   "metadata": {},
   "outputs": [
    {
     "data": {
      "text/html": [
       "<div>\n",
       "<style scoped>\n",
       "    .dataframe tbody tr th:only-of-type {\n",
       "        vertical-align: middle;\n",
       "    }\n",
       "\n",
       "    .dataframe tbody tr th {\n",
       "        vertical-align: top;\n",
       "    }\n",
       "\n",
       "    .dataframe thead th {\n",
       "        text-align: right;\n",
       "    }\n",
       "</style>\n",
       "<table border=\"1\" class=\"dataframe\">\n",
       "  <thead>\n",
       "    <tr style=\"text-align: right;\">\n",
       "      <th></th>\n",
       "      <th></th>\n",
       "      <th>value</th>\n",
       "    </tr>\n",
       "    <tr>\n",
       "      <th>component</th>\n",
       "      <th>variable</th>\n",
       "      <th></th>\n",
       "    </tr>\n",
       "  </thead>\n",
       "  <tbody>\n",
       "    <tr>\n",
       "      <th>slow_inward_current_d_gate</th>\n",
       "      <th>d</th>\n",
       "      <td>0.0030</td>\n",
       "    </tr>\n",
       "    <tr>\n",
       "      <th>slow_inward_current_f_gate</th>\n",
       "      <th>f</th>\n",
       "      <td>0.9940</td>\n",
       "    </tr>\n",
       "    <tr>\n",
       "      <th>slow_inward_current</th>\n",
       "      <th>Cai</th>\n",
       "      <td>0.0001</td>\n",
       "    </tr>\n",
       "    <tr>\n",
       "      <th>time_dependent_outward_current_x1_gate</th>\n",
       "      <th>x1</th>\n",
       "      <td>0.0001</td>\n",
       "    </tr>\n",
       "    <tr>\n",
       "      <th>sodium_current_m_gate</th>\n",
       "      <th>m</th>\n",
       "      <td>0.0110</td>\n",
       "    </tr>\n",
       "    <tr>\n",
       "      <th>sodium_current_h_gate</th>\n",
       "      <th>h</th>\n",
       "      <td>0.9880</td>\n",
       "    </tr>\n",
       "    <tr>\n",
       "      <th>membrane</th>\n",
       "      <th>V</th>\n",
       "      <td>-30.0000</td>\n",
       "    </tr>\n",
       "    <tr>\n",
       "      <th>sodium_current_j_gate</th>\n",
       "      <th>j</th>\n",
       "      <td>0.9750</td>\n",
       "    </tr>\n",
       "  </tbody>\n",
       "</table>\n",
       "</div>"
      ],
      "text/plain": [
       "                                                   value\n",
       "component                              variable         \n",
       "slow_inward_current_d_gate             d          0.0030\n",
       "slow_inward_current_f_gate             f          0.9940\n",
       "slow_inward_current                    Cai        0.0001\n",
       "time_dependent_outward_current_x1_gate x1         0.0001\n",
       "sodium_current_m_gate                  m          0.0110\n",
       "sodium_current_h_gate                  h          0.9880\n",
       "membrane                               V        -30.0000\n",
       "sodium_current_j_gate                  j          0.9750"
      ]
     },
     "execution_count": 8,
     "metadata": {},
     "output_type": "execute_result"
    }
   ],
   "source": [
    "u = params[\"states\"].copy()\n",
    "u.loc[(\"membrane\", \"V\")] = -30.\n",
    "u"
   ]
  },
  {
   "cell_type": "code",
   "execution_count": 9,
   "id": "8030dc0f-8073-4649-8811-7854940464f4",
   "metadata": {},
   "outputs": [
    {
     "data": {
      "text/plain": [
       "{'model_name': 'BR',\n",
       " 'kwargs_problem': {'p': [0.04,\n",
       "   50.0,\n",
       "   3e-05,\n",
       "   10.0,\n",
       "   50000.0,\n",
       "   0.0,\n",
       "   1000.0,\n",
       "   1.0,\n",
       "   0.0009,\n",
       "   0.01],\n",
       "  'u0': [0.003, 0.994, 0.0001, 0.0001, 0.011, 0.988, -30.0, 0.975],\n",
       "  'tspan': [0, 2000]},\n",
       " 'kwargs_solve': {'solver': 'CVODE_BDF', 'dt': 1e-05, 'dtmax': 0.5}}"
      ]
     },
     "execution_count": 9,
     "metadata": {},
     "output_type": "execute_result"
    }
   ],
   "source": [
    "req_dict = {\"model_name\": \"BR\",\n",
    "            \n",
    "            \"kwargs_problem\": {\"p\": p[\"value\"].to_list(),\n",
    "                               \"u0\": u[\"value\"].to_list(),\n",
    "                               \"tspan\": [0, 2000]},\n",
    "            \n",
    "            \"kwargs_solve\": {\"solver\": \"CVODE_BDF\", \"dt\": 1e-5, \"dtmax\": 0.5}}\n",
    "req_dict"
   ]
  },
  {
   "cell_type": "code",
   "execution_count": 10,
   "id": "0becfe84-6a63-4fb2-9f01-e6d1ff47d828",
   "metadata": {
    "tags": []
   },
   "outputs": [],
   "source": [
    "r = requests.post(\"http://127.0.0.1:2021/solve_problem\", json=req_dict)\n",
    "response = r.json()"
   ]
  },
  {
   "cell_type": "code",
   "execution_count": 11,
   "id": "b12f2868-7f39-4abb-8540-288cbc585ca7",
   "metadata": {},
   "outputs": [],
   "source": [
    "t = response[\"time\"]\n",
    "df = observables_to_dataframe(response)"
   ]
  },
  {
   "cell_type": "code",
   "execution_count": 12,
   "id": "293ca7a3-4e00-47ed-8d58-4cfb1b8cd6a8",
   "metadata": {},
   "outputs": [
    {
     "data": {
      "text/plain": [
       "[<matplotlib.lines.Line2D at 0x7f850b4f9bb0>]"
      ]
     },
     "execution_count": 12,
     "metadata": {},
     "output_type": "execute_result"
    },
    {
     "data": {
      "image/png": "[encoded data removed]",
      "text/plain": [
       "<Figure size 432x288 with 1 Axes>"
      ]
     },
     "metadata": {
      "needs_background": "light"
     },
     "output_type": "display_data"
    }
   ],
   "source": [
    "plt.plot(t, df[\"V\"])"
   ]
  },
  {
   "cell_type": "markdown",
   "id": "612f40a2-9bab-42f9-ad5f-ad2843aa4cca",
   "metadata": {},
   "source": [
    "## Несколько прогонов с разным V0"
   ]
  },
  {
   "cell_type": "code",
   "execution_count": 13,
   "id": "fba81d40-8420-42a5-a116-568ecf1b1c5e",
   "metadata": {},
   "outputs": [],
   "source": [
    "V0_array = np.arange(-100, -40, 5)"
   ]
  },
  {
   "cell_type": "code",
   "execution_count": 15,
   "id": "673df1d8-be6c-4636-8fa7-3ad5c21de755",
   "metadata": {},
   "outputs": [
    {
     "data": {
      "application/vnd.jupyter.widget-view+json": {
       "model_id": "5aa569161468454594d5620da2ee534e",
       "version_major": 2,
       "version_minor": 0
      },
      "text/plain": [
       "  0%|          | 0/12 [00:00<?, ?it/s]"
      ]
     },
     "metadata": {},
     "output_type": "display_data"
    }
   ],
   "source": [
    "dfs = []\n",
    "\n",
    "for V0 in tqdm(V0_array):\n",
    "    u.loc[(\"membrane\", \"V\")] = V0\n",
    "    req_dict[\"kwargs_problem\"][\"u0\"] = u[\"value\"].to_list()\n",
    "    \n",
    "    r = requests.post(\"http://127.0.0.1:2021/solve_problem\", json=req_dict)\n",
    "    response = r.json()\n",
    "    \n",
    "    df = observables_to_dataframe(response)\n",
    "    df[\"t\"] = response[\"time\"]\n",
    "    dfs.append(df)"
   ]
  },
  {
   "cell_type": "code",
   "execution_count": 16,
   "id": "f72653da-ca1f-4db0-ae3e-b151950d9c6c",
   "metadata": {},
   "outputs": [
    {
     "data": {
      "text/plain": [
       "Text(0, 0.5, 'V, mV')"
      ]
     },
     "execution_count": 16,
     "metadata": {},
     "output_type": "execute_result"
    },
    {
     "data": {
      "image/png": "[encoded data removed]",
      "text/plain": [
       "<Figure size 432x288 with 1 Axes>"
      ]
     },
     "metadata": {
      "needs_background": "light"
     },
     "output_type": "display_data"
    }
   ],
   "source": [
    "for df, V0 in zip(dfs, V0_array):\n",
    "    V = df[\"V\"]\n",
    "    t = df[\"t\"]\n",
    "    color = \"C0\" if V.max() < 0 else \"C3\"\n",
    "    \n",
    "    plt.plot(t, V, color=color)\n",
    "    \n",
    "plt.xlim(right=400)\n",
    "plt.grid()\n",
    "\n",
    "plt.xlabel(\"time, ms\")\n",
    "plt.ylabel(\"V, mV\")"
   ]
  },
  {
   "cell_type": "code",
   "execution_count": 17,
   "id": "8b1f349d-032c-4069-b685-f508480dc7b4",
   "metadata": {},
   "outputs": [
    {
     "data": {
      "text/plain": [
       "Text(0, 0.5, 'V, mV')"
      ]
     },
     "execution_count": 17,
     "metadata": {},
     "output_type": "execute_result"
    },
    {
     "data": {
      "image/png": "[encoded data removed]",
      "text/plain": [
       "<Figure size 432x288 with 1 Axes>"
      ]
     },
     "metadata": {
      "needs_background": "light"
     },
     "output_type": "display_data"
    }
   ],
   "source": [
    "for df, V0 in zip(dfs, V0_array):\n",
    "    V = df[\"V\"]\n",
    "    t = df[\"t\"]\n",
    "    color = \"C0\" if V.max() < 0 else \"C3\"\n",
    "    \n",
    "    plt.plot(t, V, color=color)\n",
    "    \n",
    "plt.xlim(-5, 20)\n",
    "plt.grid()\n",
    "\n",
    "plt.xlabel(\"time, ms\")\n",
    "plt.ylabel(\"V, mV\")"
   ]
  },
  {
   "cell_type": "code",
   "execution_count": null,
   "id": "87020852-a671-4197-98c4-8f4ca6ca728e",
   "metadata": {},
   "outputs": [],
   "source": []
  }
 ],
 "metadata": {
  "kernelspec": {
   "display_name": "py3.8_hpl",
   "language": "python",
   "name": "py3.8_hpl"
  },
  "language_info": {
   "codemirror_mode": {
    "name": "ipython",
    "version": 3
   },
   "file_extension": ".py",
   "mimetype": "text/x-python",
   "name": "python",
   "nbconvert_exporter": "python",
   "pygments_lexer": "ipython3",
   "version": "3.8.6"
  }
 },
 "nbformat": 4,
 "nbformat_minor": 5
}
